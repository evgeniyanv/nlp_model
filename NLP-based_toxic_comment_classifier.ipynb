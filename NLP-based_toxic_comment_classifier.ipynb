{
 "cells": [
  {
   "cell_type": "markdown",
   "metadata": {
    "toc": true
   },
   "source": [
    "<h1>Содержание<span class=\"tocSkip\"></span></h1>\n",
    "<div class=\"toc\"><ul class=\"toc-item\"><li><span><a href=\"#Подготовка\" data-toc-modified-id=\"Подготовка-1\"><span class=\"toc-item-num\">1&nbsp;&nbsp;</span>Подготовка</a></span></li><li><span><a href=\"#Обучение\" data-toc-modified-id=\"Обучение-2\"><span class=\"toc-item-num\">2&nbsp;&nbsp;</span>Обучение</a></span></li><li><span><a href=\"#Выводы\" data-toc-modified-id=\"Выводы-3\"><span class=\"toc-item-num\">3&nbsp;&nbsp;</span>Выводы</a></span></li></ul></div>"
   ]
  },
  {
   "cell_type": "markdown",
   "metadata": {},
   "source": [
    "# Проект для «Викишоп» с BERT"
   ]
  },
  {
   "cell_type": "markdown",
   "metadata": {},
   "source": [
    "Интернет-магазин «Викишоп» запускает новый сервис. Теперь пользователи могут редактировать и дополнять описания товаров, как в вики-сообществах. То есть клиенты предлагают свои правки и комментируют изменения других. Магазину нужен инструмент, который будет искать токсичные комментарии и отправлять их на модерацию. \n",
    "\n",
    "**Задача:**\n",
    "\n",
    "Обучить модель классифицировать комментарии на позитивные и негативные. То есть задача определения тональности текста.\n",
    "\n",
    "**Цель:**\n",
    "\n",
    "Модель со значением метрики качества *F1* не меньше 0.75. \n",
    "\n",
    "**Ход выполнения проекта**\n",
    "\n",
    "1. Загрузка и подготовка данных.\n",
    "2. Обучение моделей. \n",
    "3. Выводы.\n",
    "\n",
    "**Описание данных**\n",
    "\n",
    "Файл `toxic_comments.csv`. \n",
    "\n",
    "`text` - текст комментария\n",
    "\n",
    "`toxic` — целевой признак."
   ]
  },
  {
   "cell_type": "markdown",
   "metadata": {},
   "source": [
    "<h3> Импорт библиотек<a class=\"tocSkip\"> </h3>"
   ]
  },
  {
   "cell_type": "code",
   "execution_count": 1,
   "metadata": {
    "scrolled": false
   },
   "outputs": [],
   "source": [
    "# Импорт основных библиотек\n",
    "\n",
    "import pandas as pd\n",
    "import numpy as np\n",
    "import matplotlib.pyplot as plt\n",
    "\n",
    "import nltk\n",
    "import re\n",
    "import warnings\n",
    "warnings.filterwarnings('ignore')\n",
    "\n",
    "try:\n",
    "    import spacy\n",
    "except:\n",
    "    !pip install spacy -q\n",
    "    import spacy\n",
    "\n",
    "from sklearn.feature_extraction.text import CountVectorizer\n",
    "from nltk.corpus import stopwords as nltk_stopwords\n",
    "from sklearn.feature_extraction.text import TfidfVectorizer\n",
    "from tqdm import tqdm\n",
    "\n",
    "from sklearn.experimental import enable_halving_search_cv\n",
    "from sklearn.model_selection import train_test_split, RandomizedSearchCV, HalvingRandomSearchCV\n",
    "from sklearn.pipeline import Pipeline\n",
    "\n",
    "from sklearn.linear_model import LogisticRegression\n",
    "from sklearn.ensemble import RandomForestClassifier\n",
    "from sklearn.svm import SVC\n",
    "from sklearn.naive_bayes import MultinomialNB\n",
    "import lightgbm as lgb\n",
    "from catboost import CatBoostClassifier\n",
    "\n",
    "import torch\n",
    "import transformers\n",
    "from transformers import BertTokenizer, BertModel, AutoTokenizer, AutoModel\n",
    "\n",
    "from sklearn.metrics import precision_score, recall_score, confusion_matrix, f1_score\n",
    "\n",
    "# константы\n",
    "\n",
    "RANDOM_STATE=42"
   ]
  },
  {
   "cell_type": "markdown",
   "metadata": {},
   "source": [
    "## Подготовка"
   ]
  },
  {
   "cell_type": "code",
   "execution_count": 2,
   "metadata": {},
   "outputs": [],
   "source": [
    "# загрузим данные из csv-файла\n",
    "\n",
    "try: \n",
    "    df = pd.read_csv('toxic_comments.csv') \n",
    "except: \n",
    "    df = pd.read_csv('https://code.s3.yandex.net/datasets/toxic_comments.csv')\n"
   ]
  },
  {
   "cell_type": "code",
   "execution_count": 3,
   "metadata": {},
   "outputs": [
    {
     "data": {
      "text/html": [
       "<div>\n",
       "<style scoped>\n",
       "    .dataframe tbody tr th:only-of-type {\n",
       "        vertical-align: middle;\n",
       "    }\n",
       "\n",
       "    .dataframe tbody tr th {\n",
       "        vertical-align: top;\n",
       "    }\n",
       "\n",
       "    .dataframe thead th {\n",
       "        text-align: right;\n",
       "    }\n",
       "</style>\n",
       "<table border=\"1\" class=\"dataframe\">\n",
       "  <thead>\n",
       "    <tr style=\"text-align: right;\">\n",
       "      <th></th>\n",
       "      <th>Unnamed: 0</th>\n",
       "      <th>text</th>\n",
       "      <th>toxic</th>\n",
       "    </tr>\n",
       "  </thead>\n",
       "  <tbody>\n",
       "    <tr>\n",
       "      <th>0</th>\n",
       "      <td>0</td>\n",
       "      <td>Explanation\\nWhy the edits made under my usern...</td>\n",
       "      <td>0</td>\n",
       "    </tr>\n",
       "    <tr>\n",
       "      <th>1</th>\n",
       "      <td>1</td>\n",
       "      <td>D'aww! He matches this background colour I'm s...</td>\n",
       "      <td>0</td>\n",
       "    </tr>\n",
       "    <tr>\n",
       "      <th>2</th>\n",
       "      <td>2</td>\n",
       "      <td>Hey man, I'm really not trying to edit war. It...</td>\n",
       "      <td>0</td>\n",
       "    </tr>\n",
       "    <tr>\n",
       "      <th>3</th>\n",
       "      <td>3</td>\n",
       "      <td>\"\\nMore\\nI can't make any real suggestions on ...</td>\n",
       "      <td>0</td>\n",
       "    </tr>\n",
       "    <tr>\n",
       "      <th>4</th>\n",
       "      <td>4</td>\n",
       "      <td>You, sir, are my hero. Any chance you remember...</td>\n",
       "      <td>0</td>\n",
       "    </tr>\n",
       "  </tbody>\n",
       "</table>\n",
       "</div>"
      ],
      "text/plain": [
       "   Unnamed: 0                                               text  toxic\n",
       "0           0  Explanation\\nWhy the edits made under my usern...      0\n",
       "1           1  D'aww! He matches this background colour I'm s...      0\n",
       "2           2  Hey man, I'm really not trying to edit war. It...      0\n",
       "3           3  \"\\nMore\\nI can't make any real suggestions on ...      0\n",
       "4           4  You, sir, are my hero. Any chance you remember...      0"
      ]
     },
     "execution_count": 3,
     "metadata": {},
     "output_type": "execute_result"
    }
   ],
   "source": [
    "# обзор датасета\n",
    "\n",
    "df.head()"
   ]
  },
  {
   "cell_type": "code",
   "execution_count": 4,
   "metadata": {},
   "outputs": [
    {
     "name": "stdout",
     "output_type": "stream",
     "text": [
      "<class 'pandas.core.frame.DataFrame'>\n",
      "RangeIndex: 159292 entries, 0 to 159291\n",
      "Data columns (total 3 columns):\n",
      " #   Column      Non-Null Count   Dtype \n",
      "---  ------      --------------   ----- \n",
      " 0   Unnamed: 0  159292 non-null  int64 \n",
      " 1   text        159292 non-null  object\n",
      " 2   toxic       159292 non-null  int64 \n",
      "dtypes: int64(2), object(1)\n",
      "memory usage: 3.6+ MB\n"
     ]
    }
   ],
   "source": [
    "# информация о датасете\n",
    "\n",
    "df.info()"
   ]
  },
  {
   "cell_type": "code",
   "execution_count": 5,
   "metadata": {},
   "outputs": [
    {
     "data": {
      "text/plain": [
       "Unnamed: 0    0\n",
       "text          0\n",
       "toxic         0\n",
       "dtype: int64"
      ]
     },
     "execution_count": 5,
     "metadata": {},
     "output_type": "execute_result"
    }
   ],
   "source": [
    "# пропуски\n",
    "\n",
    "df.isna().sum()"
   ]
  },
  {
   "cell_type": "code",
   "execution_count": 6,
   "metadata": {},
   "outputs": [
    {
     "data": {
      "text/plain": [
       "0"
      ]
     },
     "execution_count": 6,
     "metadata": {},
     "output_type": "execute_result"
    }
   ],
   "source": [
    "# дубликаты\n",
    "\n",
    "df.duplicated().sum()"
   ]
  },
  {
   "cell_type": "code",
   "execution_count": 7,
   "metadata": {},
   "outputs": [
    {
     "data": {
      "image/png": "[encoded data removed]",
      "text/plain": [
       "<Figure size 800x500 with 1 Axes>"
      ]
     },
     "metadata": {},
     "output_type": "display_data"
    }
   ],
   "source": [
    "# проверим баланс классов целевого признака\n",
    "\n",
    "class_distribution = df['toxic'].value_counts(normalize=True) * 100\n",
    "\n",
    "plt.figure(figsize=(8, 5))\n",
    "\n",
    "# Построение диаграммы\n",
    "ax = class_distribution.plot(kind='bar', color=['lightblue', 'lightcoral'])\n",
    "\n",
    "# Настройки графика\n",
    "plt.xlabel('Класс')\n",
    "plt.ylabel('Доля, %')\n",
    "plt.title('Относительное распределение классов')\n",
    "plt.xticks(ticks=[0, 1], labels=['Класс 0', 'Класс 1'], rotation=0)\n",
    "plt.ylim(0, 100)  \n",
    "\n",
    "# Отображаем процентные значения над столбцами\n",
    "for i, v in enumerate(class_distribution):\n",
    "    ax.text(i, v + 1, f\"{v:.1f}%\", ha='center', fontsize=12)\n"
   ]
  },
  {
   "cell_type": "markdown",
   "metadata": {},
   "source": [
    "Очевидный дисбаланс. Класс 1 составляет всего 10% от всей выборки, поэтому этот класс модель может распознавать в итоге хуже. \n",
    "      \n",
    "Во-первых, будем использовать стратификацию при разделении на тренировочные и валидационные выборки. \n",
    "    \n",
    "Во-вторых, в моделях можно указывать параметр class_weight='balanced', указывая на несбалансированность классов"
   ]
  },
  {
   "cell_type": "markdown",
   "metadata": {},
   "source": [
    "<h3> Очистка и лемматизация<a class=\"tocSkip\"> </h3>"
   ]
  },
  {
   "cell_type": "code",
   "execution_count": 8,
   "metadata": {},
   "outputs": [],
   "source": [
    "# функция для очистки текста\n",
    "\n",
    "def clear_text(text):\n",
    "    t = re.sub(r'[^a-zA-z]', ' ', text)\n",
    "    t = t.split()\n",
    "    t = ' '.join(t)\n",
    "    return t\n",
    "\n",
    "df['сlear_text'] = df['text'].apply(clear_text)"
   ]
  },
  {
   "cell_type": "code",
   "execution_count": 9,
   "metadata": {},
   "outputs": [
    {
     "name": "stdout",
     "output_type": "stream",
     "text": [
      "Модель загружена!\n"
     ]
    }
   ],
   "source": [
    "# библиотека SpaCy\n",
    "\n",
    "import subprocess\n",
    "\n",
    "try:\n",
    "    nlp = spacy.load(\"en_core_web_sm\", disable=[\"parser\", \"ner\", \"textcat\"]) #исключим ненужные модули для ускорения\n",
    "except OSError:\n",
    "    print(\"Модель не найдена. Загружаем...\")\n",
    "    subprocess.run([\"python\", \"-m\", \"spacy\", \"download\", \"en_core_web_sm\"])\n",
    "    nlp = spacy.load(\"en_core_web_sm\")\n",
    "\n",
    "print(\"Модель загружена!\")"
   ]
  },
  {
   "cell_type": "code",
   "execution_count": 10,
   "metadata": {},
   "outputs": [
    {
     "name": "stderr",
     "output_type": "stream",
     "text": [
      "Лемматизация: 100%|█████████████████████| 30000/30000 [00:10<00:00, 2835.06it/s]\n"
     ]
    },
    {
     "name": "stdout",
     "output_type": "stream",
     "text": [
      "                      text     lemmatized_text\n",
      "0     The cats are running      the cat be run\n",
      "1  Children played outside  child play outside\n",
      "2        He watches movies      he watch movie\n",
      "3     The cats are running      the cat be run\n",
      "4  Children played outside  child play outside\n"
     ]
    }
   ],
   "source": [
    "# функция для лемматизации текста с прогрессом\n",
    "\n",
    "df_1 = pd.DataFrame({'text': [\"The cats are running\", \"Children played outside\", \"He watches movies\"] * 10000})  # 30K строк\n",
    "\n",
    "\n",
    "def lemmatize_with_progress(texts, data):\n",
    "    texts = map(str, texts) \n",
    "    docs = list(tqdm(nlp.pipe(texts), total=data.shape[0], desc=\"Лемматизация\"))\n",
    "    return [\" \".join([token.lemma_ for token in doc]) for doc in docs]\n",
    "\n",
    "# Применяем лемматизацию с прогрессом\n",
    "df_1['lemmatized_text'] = lemmatize_with_progress(df_1['text'], df_1)\n",
    "\n",
    "# Вывод первых строк\n",
    "print(df_1.head())"
   ]
  },
  {
   "cell_type": "markdown",
   "metadata": {},
   "source": [
    "Функция работает корректно"
   ]
  },
  {
   "cell_type": "code",
   "execution_count": 11,
   "metadata": {
    "scrolled": false
   },
   "outputs": [
    {
     "name": "stderr",
     "output_type": "stream",
     "text": [
      "Лемматизация: 100%|████████████████████| 159292/159292 [12:25<00:00, 213.67it/s]\n"
     ]
    },
    {
     "data": {
      "text/html": [
       "<div>\n",
       "<style scoped>\n",
       "    .dataframe tbody tr th:only-of-type {\n",
       "        vertical-align: middle;\n",
       "    }\n",
       "\n",
       "    .dataframe tbody tr th {\n",
       "        vertical-align: top;\n",
       "    }\n",
       "\n",
       "    .dataframe thead th {\n",
       "        text-align: right;\n",
       "    }\n",
       "</style>\n",
       "<table border=\"1\" class=\"dataframe\">\n",
       "  <thead>\n",
       "    <tr style=\"text-align: right;\">\n",
       "      <th></th>\n",
       "      <th>Unnamed: 0</th>\n",
       "      <th>text</th>\n",
       "      <th>toxic</th>\n",
       "      <th>сlear_text</th>\n",
       "      <th>lemm_text</th>\n",
       "    </tr>\n",
       "  </thead>\n",
       "  <tbody>\n",
       "    <tr>\n",
       "      <th>0</th>\n",
       "      <td>0</td>\n",
       "      <td>Explanation\\nWhy the edits made under my usern...</td>\n",
       "      <td>0</td>\n",
       "      <td>Explanation Why the edits made under my userna...</td>\n",
       "      <td>explanation why the edit make under my usernam...</td>\n",
       "    </tr>\n",
       "    <tr>\n",
       "      <th>1</th>\n",
       "      <td>1</td>\n",
       "      <td>D'aww! He matches this background colour I'm s...</td>\n",
       "      <td>0</td>\n",
       "      <td>D aww He matches this background colour I m se...</td>\n",
       "      <td>d aww he match this background colour I m seem...</td>\n",
       "    </tr>\n",
       "    <tr>\n",
       "      <th>2</th>\n",
       "      <td>2</td>\n",
       "      <td>Hey man, I'm really not trying to edit war. It...</td>\n",
       "      <td>0</td>\n",
       "      <td>Hey man I m really not trying to edit war It s...</td>\n",
       "      <td>hey man I m really not try to edit war it s ju...</td>\n",
       "    </tr>\n",
       "    <tr>\n",
       "      <th>3</th>\n",
       "      <td>3</td>\n",
       "      <td>\"\\nMore\\nI can't make any real suggestions on ...</td>\n",
       "      <td>0</td>\n",
       "      <td>More I can t make any real suggestions on impr...</td>\n",
       "      <td>More I can t make any real suggestion on impro...</td>\n",
       "    </tr>\n",
       "    <tr>\n",
       "      <th>4</th>\n",
       "      <td>4</td>\n",
       "      <td>You, sir, are my hero. Any chance you remember...</td>\n",
       "      <td>0</td>\n",
       "      <td>You sir are my hero Any chance you remember wh...</td>\n",
       "      <td>you sir be my hero any chance you remember wha...</td>\n",
       "    </tr>\n",
       "  </tbody>\n",
       "</table>\n",
       "</div>"
      ],
      "text/plain": [
       "   Unnamed: 0                                               text  toxic  \\\n",
       "0           0  Explanation\\nWhy the edits made under my usern...      0   \n",
       "1           1  D'aww! He matches this background colour I'm s...      0   \n",
       "2           2  Hey man, I'm really not trying to edit war. It...      0   \n",
       "3           3  \"\\nMore\\nI can't make any real suggestions on ...      0   \n",
       "4           4  You, sir, are my hero. Any chance you remember...      0   \n",
       "\n",
       "                                          сlear_text  \\\n",
       "0  Explanation Why the edits made under my userna...   \n",
       "1  D aww He matches this background colour I m se...   \n",
       "2  Hey man I m really not trying to edit war It s...   \n",
       "3  More I can t make any real suggestions on impr...   \n",
       "4  You sir are my hero Any chance you remember wh...   \n",
       "\n",
       "                                           lemm_text  \n",
       "0  explanation why the edit make under my usernam...  \n",
       "1  d aww he match this background colour I m seem...  \n",
       "2  hey man I m really not try to edit war it s ju...  \n",
       "3  More I can t make any real suggestion on impro...  \n",
       "4  you sir be my hero any chance you remember wha...  "
      ]
     },
     "execution_count": 11,
     "metadata": {},
     "output_type": "execute_result"
    }
   ],
   "source": [
    "# выполним лемматизацию текста и добавим новый столбец в наш датасет\n",
    "df['lemm_text'] = lemmatize_with_progress(df['сlear_text'], df)\n",
    "\n",
    "df.head()"
   ]
  },
  {
   "cell_type": "markdown",
   "metadata": {},
   "source": [
    "**ВЫВОД ПО РАЗДЕЛУ \"ПОДГОТОВКА\":**\n",
    "\n",
    "Данные состоят из одного датасета, в котором 3 столбца, в одном из них текст комментариев, в другом метка тональности текста (целевой признак)\n",
    "\n",
    "Пропусков и дубликатов в датасете не выявлено.\n",
    "\n",
    "Выявлен дисбаланс классов, минорный класс \"1\" составляет всего 10% от общего числа.\n",
    "\n",
    "Данные очищены с помощью созданной функции `clear_text` с использованием регулярных выражений `re`.\n",
    "Текст лемматизирован с помощью библиотеки SpaCy, для ускорения работы исключены модули `parser`, `ner`, `textcat`.\n",
    "\n",
    "Теперь данные готовы к формированию признаков для модели: разделению на выборки, векторизации и обучению моделей, которое будем осуществлять посредством пайплайна."
   ]
  },
  {
   "cell_type": "markdown",
   "metadata": {},
   "source": [
    "## Обучение"
   ]
  },
  {
   "cell_type": "markdown",
   "metadata": {},
   "source": [
    "<h3> Подготовка признаков<a class=\"tocSkip\"> </h3>"
   ]
  },
  {
   "cell_type": "code",
   "execution_count": 12,
   "metadata": {},
   "outputs": [
    {
     "data": {
      "text/plain": [
       "((127433,), (31859,), (127433,), (31859,))"
      ]
     },
     "execution_count": 12,
     "metadata": {},
     "output_type": "execute_result"
    }
   ],
   "source": [
    "# разделим данные на выборки: тренировочную и тестовую, добавим стратификацию\n",
    "\n",
    "X = df['lemm_text']\n",
    "y = df['toxic']\n",
    "\n",
    "X_train, X_test, y_train, y_test = train_test_split(X, y, test_size=0.2, stratify=y)\n",
    "\n",
    "X_train.shape, X_test.shape, y_train.shape, y_test.shape"
   ]
  },
  {
   "cell_type": "markdown",
   "metadata": {},
   "source": [
    "Трансформируем признаки в векторы с помощью величин TF-IDF. Сделаем это в пайплайне.\n",
    "\n",
    "TF-IDF оценивает важность слова. TF отвечает за количество упоминаний слова в отдельном тексте, а IDF отражает частоту его употребления во всём корпусе."
   ]
  },
  {
   "cell_type": "code",
   "execution_count": 13,
   "metadata": {
    "scrolled": true
   },
   "outputs": [
    {
     "name": "stderr",
     "output_type": "stream",
     "text": [
      "[nltk_data] Downloading package stopwords to\n",
      "[nltk_data]     /Users/evgeniazigaeva/nltk_data...\n",
      "[nltk_data]   Package stopwords is already up-to-date!\n"
     ]
    }
   ],
   "source": [
    "# Загрузим список стоп-слов, создадим список английских стоп-слов\n",
    "\n",
    "nltk.download('stopwords')\n",
    "stopwords = nltk_stopwords.words('english')"
   ]
  },
  {
   "cell_type": "markdown",
   "metadata": {},
   "source": [
    "<h3> Логистическая регрессия<a class=\"tocSkip\"> </h3>"
   ]
  },
  {
   "cell_type": "markdown",
   "metadata": {},
   "source": [
    "Создадим пайплайн для обработки текста с помощью TfidfVectorizer(), исключив стопслова."
   ]
  },
  {
   "cell_type": "code",
   "execution_count": 14,
   "metadata": {},
   "outputs": [],
   "source": [
    "pipe_lr = Pipeline(\n",
    "    [\n",
    "        ('vect', TfidfVectorizer(stop_words=stopwords)),\n",
    "        ('models', LogisticRegression(solver='liblinear', class_weight='balanced', random_state=RANDOM_STATE))\n",
    "    ]\n",
    ")"
   ]
  },
  {
   "cell_type": "code",
   "execution_count": 15,
   "metadata": {
    "scrolled": true
   },
   "outputs": [
    {
     "name": "stdout",
     "output_type": "stream",
     "text": [
      "Fitting 3 folds for each of 6 candidates, totalling 18 fits\n",
      "Лучшие параметры: {'models__penalty': 'l2', 'models__C': 10}\n",
      "Лучший score: 0.76\n",
      "Время обучения: 3.55 сек\n",
      "Время предсказания: 1.26 сек\n"
     ]
    }
   ],
   "source": [
    "# Соберем словарь из перебираемых гиперпараметров\n",
    "\n",
    "param_lr = [\n",
    "    {\n",
    "        'models__C': [1, 10, 100],\n",
    "        'models__penalty': ['l1', 'l2']\n",
    "    }\n",
    "]\n",
    "\n",
    "random_lr = RandomizedSearchCV(\n",
    "    pipe_lr, \n",
    "    param_lr, \n",
    "    cv=3,\n",
    "    scoring='f1',\n",
    "    verbose=2,\n",
    "    random_state=RANDOM_STATE,\n",
    "    error_score='raise',\n",
    "    n_jobs=-1\n",
    ")\n",
    "random_lr.fit(X_train, y_train)\n",
    "\n",
    "# создадим функцию выдачи результатов\n",
    "def results(model):\n",
    "    results = model.cv_results_\n",
    "    best_index = model.best_index_\n",
    "    best_score = model.best_score_\n",
    "    params = results['params'][best_index]\n",
    "    fit_time = results['mean_fit_time'][best_index]\n",
    "    predict_time = results['mean_score_time'][best_index]\n",
    "    return params, best_score, fit_time, predict_time  \n",
    "\n",
    "params_lr, best_score_lr, fit_time_lr, predict_time_lr = results(random_lr)\n",
    "\n",
    "print(f\"Лучшие параметры: {params_lr}\")\n",
    "print(f\"Лучший score: {best_score_lr:.2f}\")\n",
    "\n",
    "# затраченное время\n",
    "print(f\"Время обучения: {fit_time_lr:.2f} сек\")\n",
    "print(f\"Время предсказания: {predict_time_lr:.2f} сек\")"
   ]
  },
  {
   "cell_type": "markdown",
   "metadata": {},
   "source": [
    "Лучшие параметры Логистической регрессии l2-регуляризация с силой регуляризации 10.\n",
    "\n",
    "Метрика F1 равна 0.76, что удовлетворяет заданию (>0.75)"
   ]
  },
  {
   "cell_type": "markdown",
   "metadata": {},
   "source": [
    "<h3> Multinomial Naive Bayes (MultinomialNB)<a class=\"tocSkip\"> </h3>"
   ]
  },
  {
   "cell_type": "code",
   "execution_count": 16,
   "metadata": {},
   "outputs": [],
   "source": [
    "pipe_nb = Pipeline(\n",
    "    [\n",
    "        ('vect', TfidfVectorizer(stop_words=stopwords)),\n",
    "        ('models', MultinomialNB())\n",
    "    ]\n",
    ")"
   ]
  },
  {
   "cell_type": "code",
   "execution_count": 17,
   "metadata": {
    "scrolled": false
   },
   "outputs": [
    {
     "name": "stdout",
     "output_type": "stream",
     "text": [
      "Fitting 3 folds for each of 5 candidates, totalling 15 fits\n",
      "Лучшие параметры: {'models__alpha': 0.1}\n",
      "Лучший score: 0.63\n",
      "Время обучения: 2.15 сек\n",
      "Время предсказания: 1.21 сек\n"
     ]
    }
   ],
   "source": [
    "# Соберем словарь из перебираемых гиперпараметров\n",
    "\n",
    "param_nb = [\n",
    "    {\n",
    "        'models__alpha': [0.1, 0.5, 1, 5, 10]\n",
    "    }\n",
    "]\n",
    "\n",
    "random_nb = RandomizedSearchCV(\n",
    "    pipe_nb, \n",
    "    param_nb, \n",
    "    cv=3,\n",
    "    scoring='f1',\n",
    "    verbose=2,\n",
    "    random_state=RANDOM_STATE,\n",
    "    error_score='raise',\n",
    "    n_jobs=-1\n",
    ")\n",
    "random_nb.fit(X_train, y_train)\n",
    "\n",
    "params_nb, best_score_nb, fit_time_nb, predict_time_nb = results(random_nb)\n",
    "\n",
    "print(f\"Лучшие параметры: {params_nb}\")\n",
    "print(f\"Лучший score: {best_score_nb:.2f}\")\n",
    "\n",
    "# затраченное время\n",
    "print(f\"Время обучения: {fit_time_nb:.2f} сек\")\n",
    "print(f\"Время предсказания: {predict_time_nb:.2f} сек\")"
   ]
  },
  {
   "cell_type": "markdown",
   "metadata": {},
   "source": [
    "Лучшие параметры модели Наивный Байес alpha=0.1.\n",
    "\n",
    "Метрика F1 равна 0.63, что не удовлетворяет заданию (>0.75)"
   ]
  },
  {
   "cell_type": "markdown",
   "metadata": {},
   "source": [
    "<h3> RandomForestClassifier (Случайный лес)<a class=\"tocSkip\"> </h3>"
   ]
  },
  {
   "cell_type": "code",
   "execution_count": 18,
   "metadata": {},
   "outputs": [],
   "source": [
    "pipe_rf = Pipeline(\n",
    "    [\n",
    "        ('vect', TfidfVectorizer(stop_words=stopwords)),\n",
    "        ('models', RandomForestClassifier(random_state=RANDOM_STATE))\n",
    "    ]\n",
    ")"
   ]
  },
  {
   "cell_type": "code",
   "execution_count": 19,
   "metadata": {
    "scrolled": false
   },
   "outputs": [
    {
     "name": "stdout",
     "output_type": "stream",
     "text": [
      "Fitting 3 folds for each of 10 candidates, totalling 30 fits\n",
      "Лучшие параметры: {'models__n_estimators': 50, 'models__min_samples_split': 5, 'models__min_samples_leaf': 5, 'models__max_depth': None}\n",
      "Лучший score: 0.52\n",
      "Время обучения: 8.14 сек\n",
      "Время предсказания: 1.95 сек\n"
     ]
    }
   ],
   "source": [
    "# Соберем словарь из перебираемых гиперпараметров\n",
    "\n",
    "param_rf = {\n",
    "    'models__n_estimators': [50, 100], \n",
    "    'models__max_depth': [None, 10, 20], \n",
    "    'models__min_samples_split': [2, 5, 10], \n",
    "    'models__min_samples_leaf': [2, 5], \n",
    "}\n",
    "\n",
    "random_rf = RandomizedSearchCV(\n",
    "    pipe_rf, \n",
    "    param_rf, \n",
    "    cv=3,\n",
    "    scoring='f1',\n",
    "    verbose=2,\n",
    "    random_state=RANDOM_STATE,\n",
    "    error_score='raise',\n",
    "    n_jobs=-1\n",
    ")\n",
    "random_rf.fit(X_train, y_train)\n",
    "\n",
    "params_rf, best_score_rf, fit_time_rf, predict_time_rf = results(random_rf)\n",
    "\n",
    "print(f\"Лучшие параметры: {params_rf}\")\n",
    "print(f\"Лучший score: {best_score_rf:.2f}\")\n",
    "\n",
    "# затраченное время\n",
    "print(f\"Время обучения: {fit_time_rf:.2f} сек\")\n",
    "print(f\"Время предсказания: {predict_time_rf:.2f} сек\")"
   ]
  },
  {
   "cell_type": "markdown",
   "metadata": {},
   "source": [
    "Эта модель отработала еще хуже. Лучшие параметры модели Случайный лес Количество деревьев=50, Глубина деревьев не ограничена, Минимальное количество выборок для разбиения=5, Минимальное количество выборок в листе=5\n",
    "\n",
    "Метрика F1 равна 0.52, что не удовлетворяет заданию (>0.75)"
   ]
  },
  {
   "cell_type": "markdown",
   "metadata": {},
   "source": [
    "<h3> Бустинговая модель LGBMClassifier<a class=\"tocSkip\"> </h3>"
   ]
  },
  {
   "cell_type": "code",
   "execution_count": 20,
   "metadata": {},
   "outputs": [],
   "source": [
    "pipe_gbm = Pipeline(\n",
    "    [\n",
    "        ('vect', TfidfVectorizer(stop_words=stopwords)),\n",
    "        ('models', lgb.LGBMClassifier( \n",
    "    max_depth=5,\n",
    "    num_leaves=31,\n",
    "    learning_rate=0.1,\n",
    "    subsample=0.8,\n",
    "    random_state=RANDOM_STATE,\n",
    "    force_col_wise=True,\n",
    "    verbose=-1\n",
    "))\n",
    "    ]\n",
    ")"
   ]
  },
  {
   "cell_type": "code",
   "execution_count": 21,
   "metadata": {
    "scrolled": false
   },
   "outputs": [
    {
     "name": "stdout",
     "output_type": "stream",
     "text": [
      "Fitting 3 folds for each of 3 candidates, totalling 9 fits\n",
      "Лучшие параметры: {'models__num_leaves': 30, 'models__n_estimators': 300, 'models__max_depth': -1}\n",
      "Лучший score: 0.77\n",
      "Время обучения: 10.75 сек\n",
      "Время предсказания: 1.73 сек\n"
     ]
    }
   ],
   "source": [
    "# Соберем словарь из перебираемых гиперпараметров\n",
    "\n",
    "param_gbm = {\n",
    "    'models__n_estimators': [100, 200, 300],\n",
    "    'models__max_depth': [-1, 5],\n",
    "    'models__num_leaves': [10, 20, 30]\n",
    "}\n",
    "\n",
    "random_gbm = RandomizedSearchCV(\n",
    "    pipe_gbm, \n",
    "    param_gbm, \n",
    "    cv=3,\n",
    "    scoring='f1',\n",
    "    verbose=1,\n",
    "    random_state=RANDOM_STATE,\n",
    "    error_score='raise',\n",
    "    n_jobs=1,\n",
    "    n_iter=3\n",
    ")\n",
    "\n",
    "random_gbm.fit(X_train, y_train)\n",
    "\n",
    "params_gbm, best_score_gbm, fit_time_gbm, predict_time_gbm = results(random_gbm)\n",
    "\n",
    "print(f\"Лучшие параметры: {params_gbm}\")\n",
    "print(f\"Лучший score: {best_score_gbm:.2f}\")\n",
    "\n",
    "# затраченное время\n",
    "print(f\"Время обучения: {fit_time_gbm:.2f} сек\")\n",
    "print(f\"Время предсказания: {predict_time_gbm:.2f} сек\")"
   ]
  },
  {
   "cell_type": "markdown",
   "metadata": {},
   "source": [
    "Найдены лучшие параметры модели LGBM.\n",
    "Метрика F1 равна 0.77, что удовлетворяет заданию (>0.75)"
   ]
  },
  {
   "cell_type": "markdown",
   "metadata": {},
   "source": [
    "<h3> BERT \"unitary/toxic-bert\"<a class=\"tocSkip\"> </h3>"
   ]
  },
  {
   "cell_type": "markdown",
   "metadata": {},
   "source": [
    "BERT - модель для обработки текста, которую можно использовать для создания эмбеддингов (векторных признаков) и последующей классификации."
   ]
  },
  {
   "cell_type": "code",
   "execution_count": 22,
   "metadata": {},
   "outputs": [],
   "source": [
    "# Загружаем предобученный AutoTokenizer()\n",
    "\n",
    "model_name = \"unitary/toxic-bert\"\n",
    "tokenizer = AutoTokenizer.from_pretrained(model_name)\n",
    "model = AutoModel.from_pretrained(model_name)"
   ]
  },
  {
   "cell_type": "code",
   "execution_count": 23,
   "metadata": {},
   "outputs": [
    {
     "data": {
      "text/plain": [
       "BertModel(\n",
       "  (embeddings): BertEmbeddings(\n",
       "    (word_embeddings): Embedding(30522, 768, padding_idx=0)\n",
       "    (position_embeddings): Embedding(512, 768)\n",
       "    (token_type_embeddings): Embedding(2, 768)\n",
       "    (LayerNorm): LayerNorm((768,), eps=1e-12, elementwise_affine=True)\n",
       "    (dropout): Dropout(p=0.1, inplace=False)\n",
       "  )\n",
       "  (encoder): BertEncoder(\n",
       "    (layer): ModuleList(\n",
       "      (0-11): 12 x BertLayer(\n",
       "        (attention): BertAttention(\n",
       "          (self): BertSdpaSelfAttention(\n",
       "            (query): Linear(in_features=768, out_features=768, bias=True)\n",
       "            (key): Linear(in_features=768, out_features=768, bias=True)\n",
       "            (value): Linear(in_features=768, out_features=768, bias=True)\n",
       "            (dropout): Dropout(p=0.1, inplace=False)\n",
       "          )\n",
       "          (output): BertSelfOutput(\n",
       "            (dense): Linear(in_features=768, out_features=768, bias=True)\n",
       "            (LayerNorm): LayerNorm((768,), eps=1e-12, elementwise_affine=True)\n",
       "            (dropout): Dropout(p=0.1, inplace=False)\n",
       "          )\n",
       "        )\n",
       "        (intermediate): BertIntermediate(\n",
       "          (dense): Linear(in_features=768, out_features=3072, bias=True)\n",
       "          (intermediate_act_fn): GELUActivation()\n",
       "        )\n",
       "        (output): BertOutput(\n",
       "          (dense): Linear(in_features=3072, out_features=768, bias=True)\n",
       "          (LayerNorm): LayerNorm((768,), eps=1e-12, elementwise_affine=True)\n",
       "          (dropout): Dropout(p=0.1, inplace=False)\n",
       "        )\n",
       "      )\n",
       "    )\n",
       "  )\n",
       "  (pooler): BertPooler(\n",
       "    (dense): Linear(in_features=768, out_features=768, bias=True)\n",
       "    (activation): Tanh()\n",
       "  )\n",
       ")"
      ]
     },
     "execution_count": 23,
     "metadata": {},
     "output_type": "execute_result"
    }
   ],
   "source": [
    "# Переводим модель в режим предсказания (выключаем градиенты)\n",
    "\n",
    "model.eval()"
   ]
  },
  {
   "cell_type": "code",
   "execution_count": 24,
   "metadata": {},
   "outputs": [],
   "source": [
    "# функция для создания эмбеддингов\n",
    "\n",
    "def get_bert_embedding(text):\n",
    "    # Токенизация текста (обрезаем до 128 токенов)\n",
    "    tokens = tokenizer(text, padding=\"max_length\", truncation=True, return_tensors=\"pt\", max_length=128)\n",
    "\n",
    "    # Передаём текст в BERT и отключаем градиенты (ускоряет работу)\n",
    "    with torch.no_grad():\n",
    "        output = model(**tokens)\n",
    "\n",
    "    # Используем эмбеддинг [CLS] токена (размерность 768)\n",
    "    return output.last_hidden_state[:, 0, :].numpy()"
   ]
  },
  {
   "cell_type": "markdown",
   "metadata": {},
   "source": [
    "Ввиду того, что датасет у нас достаточно массивный, а обработка bert ресурсоемка, выберем из датасета только 10000 случайных текстов с длиной сообщения не более 300"
   ]
  },
  {
   "cell_type": "code",
   "execution_count": 25,
   "metadata": {},
   "outputs": [
    {
     "data": {
      "text/html": [
       "<div>\n",
       "<style scoped>\n",
       "    .dataframe tbody tr th:only-of-type {\n",
       "        vertical-align: middle;\n",
       "    }\n",
       "\n",
       "    .dataframe tbody tr th {\n",
       "        vertical-align: top;\n",
       "    }\n",
       "\n",
       "    .dataframe thead th {\n",
       "        text-align: right;\n",
       "    }\n",
       "</style>\n",
       "<table border=\"1\" class=\"dataframe\">\n",
       "  <thead>\n",
       "    <tr style=\"text-align: right;\">\n",
       "      <th></th>\n",
       "      <th>text</th>\n",
       "      <th>toxic</th>\n",
       "    </tr>\n",
       "  </thead>\n",
       "  <tbody>\n",
       "    <tr>\n",
       "      <th>72865</th>\n",
       "      <td>\"The artcile assert notability - \"\"famous\"\" - ...</td>\n",
       "      <td>0</td>\n",
       "    </tr>\n",
       "    <tr>\n",
       "      <th>145991</th>\n",
       "      <td>GO AND FUCK WIKIPEDIA...WHO THE HELL CARES...</td>\n",
       "      <td>1</td>\n",
       "    </tr>\n",
       "    <tr>\n",
       "      <th>66188</th>\n",
       "      <td>I hate you. U are a homosapian. Breasts</td>\n",
       "      <td>1</td>\n",
       "    </tr>\n",
       "    <tr>\n",
       "      <th>97345</th>\n",
       "      <td>\"\\n\\n Capitalization \\n\\nThe capitalization of...</td>\n",
       "      <td>0</td>\n",
       "    </tr>\n",
       "    <tr>\n",
       "      <th>122145</th>\n",
       "      <td>(I think kororima (which I thought might be ca...</td>\n",
       "      <td>0</td>\n",
       "    </tr>\n",
       "    <tr>\n",
       "      <th>...</th>\n",
       "      <td>...</td>\n",
       "      <td>...</td>\n",
       "    </tr>\n",
       "    <tr>\n",
       "      <th>27766</th>\n",
       "      <td>Bing Bang (Time to Dance)\\nWhat do you feel ne...</td>\n",
       "      <td>0</td>\n",
       "    </tr>\n",
       "    <tr>\n",
       "      <th>70000</th>\n",
       "      <td>You love the devil and worship him.</td>\n",
       "      <td>1</td>\n",
       "    </tr>\n",
       "    <tr>\n",
       "      <th>80391</th>\n",
       "      <td>Purpose phrases ==\\n A linguistic source about...</td>\n",
       "      <td>0</td>\n",
       "    </tr>\n",
       "    <tr>\n",
       "      <th>105575</th>\n",
       "      <td>So my band's not notable? Try telling that all...</td>\n",
       "      <td>0</td>\n",
       "    </tr>\n",
       "    <tr>\n",
       "      <th>74533</th>\n",
       "      <td>i hope we can rectify this soon that we may go...</td>\n",
       "      <td>0</td>\n",
       "    </tr>\n",
       "  </tbody>\n",
       "</table>\n",
       "<p>10000 rows × 2 columns</p>\n",
       "</div>"
      ],
      "text/plain": [
       "                                                     text  toxic\n",
       "72865   \"The artcile assert notability - \"\"famous\"\" - ...      0\n",
       "145991      GO AND FUCK WIKIPEDIA...WHO THE HELL CARES...      1\n",
       "66188             I hate you. U are a homosapian. Breasts      1\n",
       "97345   \"\\n\\n Capitalization \\n\\nThe capitalization of...      0\n",
       "122145  (I think kororima (which I thought might be ca...      0\n",
       "...                                                   ...    ...\n",
       "27766   Bing Bang (Time to Dance)\\nWhat do you feel ne...      0\n",
       "70000                 You love the devil and worship him.      1\n",
       "80391   Purpose phrases ==\\n A linguistic source about...      0\n",
       "105575  So my band's not notable? Try telling that all...      0\n",
       "74533   i hope we can rectify this soon that we may go...      0\n",
       "\n",
       "[10000 rows x 2 columns]"
      ]
     },
     "execution_count": 25,
     "metadata": {},
     "output_type": "execute_result"
    }
   ],
   "source": [
    "# возьмем семпл\n",
    "\n",
    "df['len'] = df['text'].str.len()\n",
    "df_bert = df[df['len']<200]\n",
    "df_bert = df_bert.sample(n=10000, random_state=RANDOM_STATE)\n",
    "df_bert = df_bert[['text', 'toxic']]\n",
    "df_bert"
   ]
  },
  {
   "cell_type": "code",
   "execution_count": 26,
   "metadata": {},
   "outputs": [
    {
     "data": {
      "text/plain": [
       "toxic\n",
       "0    86.33\n",
       "1    13.67\n",
       "Name: proportion, dtype: float64"
      ]
     },
     "execution_count": 26,
     "metadata": {},
     "output_type": "execute_result"
    }
   ],
   "source": [
    "# проверим соотношение классов в целевой переменной\n",
    "\n",
    "class_distribution = df_bert['toxic'].value_counts(normalize=True) * 100\n",
    "class_distribution"
   ]
  },
  {
   "cell_type": "code",
   "execution_count": 27,
   "metadata": {},
   "outputs": [
    {
     "name": "stdout",
     "output_type": "stream",
     "text": [
      "[CV] END ....................models__C=1, models__penalty=l2; total time=   4.2s\n",
      "[CV] END ..................models__C=100, models__penalty=l1; total time=   7.0s\n",
      "[CV] END ..................................models__alpha=0.1; total time=   3.4s\n",
      "[CV] END ...................................models__alpha=10; total time=   3.0s\n",
      "[CV] END models__max_depth=10, models__min_samples_leaf=2, models__min_samples_split=2, models__n_estimators=100; total time=   5.4s\n",
      "[CV] END models__max_depth=20, models__min_samples_leaf=5, models__min_samples_split=2, models__n_estimators=50; total time=   4.7s\n",
      "[CV] END models__max_depth=10, models__min_samples_leaf=2, models__min_samples_split=2, models__n_estimators=50; total time=   4.4s\n",
      "[CV] END ....................models__C=1, models__penalty=l1; total time=   4.1s\n",
      "[CV] END ...................models__C=10, models__penalty=l2; total time=   4.6s\n",
      "[CV] END ....................................models__alpha=1; total time=   3.4s\n",
      "[CV] END models__max_depth=20, models__min_samples_leaf=5, models__min_samples_split=10, models__n_estimators=100; total time=   6.2s\n",
      "[CV] END models__max_depth=10, models__min_samples_leaf=2, models__min_samples_split=10, models__n_estimators=50; total time=   4.4s\n",
      "[CV] END models__max_depth=10, models__min_samples_leaf=2, models__min_samples_split=2, models__n_estimators=50; total time=   4.5s\n",
      "[CV] END ...................models__C=10, models__penalty=l1; total time=  11.4s\n",
      "[CV] END ..................................models__alpha=0.5; total time=   3.4s\n",
      "[CV] END ...................................models__alpha=10; total time=   2.9s\n",
      "[CV] END models__max_depth=20, models__min_samples_leaf=2, models__min_samples_split=5, models__n_estimators=50; total time=   5.1s\n",
      "[CV] END models__max_depth=20, models__min_samples_leaf=5, models__min_samples_split=2, models__n_estimators=50; total time=   4.9s\n",
      "[CV] END models__max_depth=10, models__min_samples_leaf=2, models__min_samples_split=2, models__n_estimators=50; total time=   4.6s\n",
      "[CV] END ....................models__C=1, models__penalty=l1; total time=   4.0s\n",
      "[CV] END ...................models__C=10, models__penalty=l2; total time=   4.7s\n",
      "[CV] END ..................................models__alpha=0.5; total time=   3.4s\n",
      "[CV] END models__max_depth=10, models__min_samples_leaf=2, models__min_samples_split=2, models__n_estimators=100; total time=   5.5s\n",
      "[CV] END models__max_depth=10, models__min_samples_leaf=2, models__min_samples_split=10, models__n_estimators=50; total time=   4.4s\n",
      "[CV] END models__max_depth=10, models__min_samples_leaf=5, models__min_samples_split=5, models__n_estimators=100; total time=   5.2s\n",
      "[CV] END ....................models__C=1, models__penalty=l1; total time=   4.2s\n",
      "[CV] END ..................models__C=100, models__penalty=l1; total time=   6.8s\n",
      "[CV] END ....................................models__alpha=1; total time=   3.4s\n",
      "[CV] END models__max_depth=20, models__min_samples_leaf=5, models__min_samples_split=10, models__n_estimators=100; total time=   6.4s\n",
      "[CV] END models__max_depth=20, models__min_samples_leaf=5, models__min_samples_split=2, models__n_estimators=100; total time=   6.5s\n",
      "[CV] END models__max_depth=10, models__min_samples_leaf=2, models__min_samples_split=10, models__n_estimators=100; total time=   5.1s\n",
      "[CV] END ...................models__C=10, models__penalty=l1; total time=   5.5s\n",
      "[CV] END ..................models__C=100, models__penalty=l2; total time=   5.5s\n",
      "[CV] END ....................................models__alpha=5; total time=   3.4s\n",
      "[CV] END models__max_depth=20, models__min_samples_leaf=2, models__min_samples_split=5, models__n_estimators=50; total time=   5.1s\n",
      "[CV] END models__max_depth=20, models__min_samples_leaf=5, models__min_samples_split=2, models__n_estimators=100; total time=   6.4s\n",
      "[CV] END models__max_depth=10, models__min_samples_leaf=2, models__min_samples_split=10, models__n_estimators=100; total time=   5.0s\n",
      "[CV] END ...................models__C=10, models__penalty=l2; total time=   5.1s\n",
      "[CV] END ..................models__C=100, models__penalty=l2; total time=   5.4s\n",
      "[CV] END ..................................models__alpha=0.1; total time=   3.3s\n",
      "[CV] END ....................................models__alpha=5; total time=   3.0s\n",
      "[CV] END models__max_depth=10, models__min_samples_leaf=2, models__min_samples_split=2, models__n_estimators=100; total time=   5.4s\n",
      "[CV] END models__max_depth=20, models__min_samples_leaf=5, models__min_samples_split=2, models__n_estimators=100; total time=   6.4s\n",
      "[CV] END models__max_depth=10, models__min_samples_leaf=2, models__min_samples_split=10, models__n_estimators=100; total time=   5.1s\n",
      "[CV] END ....................models__C=1, models__penalty=l2; total time=   4.3s\n",
      "[CV] END ..................models__C=100, models__penalty=l2; total time=   5.5s\n",
      "[CV] END ....................................models__alpha=1; total time=   3.4s\n",
      "[CV] END models__max_depth=20, models__min_samples_leaf=5, models__min_samples_split=10, models__n_estimators=100; total time=   6.3s\n",
      "[CV] END models__max_depth=10, models__min_samples_leaf=2, models__min_samples_split=10, models__n_estimators=50; total time=   4.4s\n",
      "[CV] END models__max_depth=None, models__min_samples_leaf=5, models__min_samples_split=5, models__n_estimators=50; total time=   9.7s\n",
      "[CV] END ...................models__C=10, models__penalty=l1; total time=   5.8s\n",
      "[CV] END ..................................models__alpha=0.1; total time=   3.3s\n",
      "[CV] END ....................................models__alpha=5; total time=   3.0s\n",
      "[CV] END models__max_depth=20, models__min_samples_leaf=2, models__min_samples_split=5, models__n_estimators=50; total time=   5.1s\n",
      "[CV] END models__max_depth=10, models__min_samples_leaf=5, models__min_samples_split=5, models__n_estimators=100; total time=   5.5s\n",
      "[CV] END models__max_depth=None, models__min_samples_leaf=5, models__min_samples_split=5, models__n_estimators=50; total time=  10.4s\n",
      "[CV] END ....................models__C=1, models__penalty=l2; total time=   4.2s\n",
      "[CV] END ..................models__C=100, models__penalty=l1; total time=   7.0s\n",
      "[CV] END ..................................models__alpha=0.5; total time=   3.4s\n",
      "[CV] END ...................................models__alpha=10; total time=   2.9s\n",
      "[CV] END models__max_depth=20, models__min_samples_leaf=5, models__min_samples_split=2, models__n_estimators=50; total time=   5.0s\n",
      "[CV] END models__max_depth=10, models__min_samples_leaf=5, models__min_samples_split=5, models__n_estimators=100; total time=   5.3s\n",
      "[CV] END models__max_depth=None, models__min_samples_leaf=5, models__min_samples_split=5, models__n_estimators=50; total time=  10.2s\n",
      "Размер X: (10000, 768)\n",
      "Размер y: (10000,)\n"
     ]
    }
   ],
   "source": [
    "# Преобразуем тексты в эмбеддинги\n",
    "\n",
    "X = np.array([get_bert_embedding(text) for text in df_bert['text']])\n",
    "y = df_bert['toxic'].values  # Метки\n",
    "\n",
    "# Убираем лишнее измерение\n",
    "X = X.squeeze()\n",
    "\n",
    "print(\"Размер X:\", X.shape)  \n",
    "print(\"Размер y:\", y.shape)  "
   ]
  },
  {
   "cell_type": "code",
   "execution_count": 28,
   "metadata": {},
   "outputs": [],
   "source": [
    "# Разделяем данные на train/test\n",
    "\n",
    "X_train_bert, X_test_bert, y_train_bert, y_test_bert = train_test_split(X, y, test_size=0.2, stratify=y, random_state=RANDOM_STATE)"
   ]
  },
  {
   "cell_type": "code",
   "execution_count": 29,
   "metadata": {},
   "outputs": [],
   "source": [
    "pipe_bert = Pipeline(\n",
    "    [\n",
    "        ('models', LogisticRegression())\n",
    "    ]\n",
    ")"
   ]
  },
  {
   "cell_type": "code",
   "execution_count": 30,
   "metadata": {
    "scrolled": false
   },
   "outputs": [
    {
     "name": "stdout",
     "output_type": "stream",
     "text": [
      "Fitting 3 folds for each of 3 candidates, totalling 9 fits\n",
      "[CV] END models=RandomForestClassifier(random_state=42), models__max_depth=None, models__n_estimators=50; total time=   2.6s\n",
      "[CV] END models=RandomForestClassifier(random_state=42), models__max_depth=None, models__n_estimators=50; total time=   2.2s\n",
      "[CV] END models=RandomForestClassifier(random_state=42), models__max_depth=None, models__n_estimators=50; total time=   2.3s\n",
      "[CV] END models=RandomForestClassifier(random_state=42), models__max_depth=None, models__n_estimators=100; total time=   5.2s\n",
      "[CV] END models=RandomForestClassifier(random_state=42), models__max_depth=None, models__n_estimators=100; total time=   4.4s\n",
      "[CV] END models=RandomForestClassifier(random_state=42), models__max_depth=None, models__n_estimators=100; total time=   4.8s\n",
      "[CV] END models=LGBMClassifier(random_state=42), models__max_depth=-1, models__n_estimators=200; total time=   2.0s\n",
      "[CV] END models=LGBMClassifier(random_state=42), models__max_depth=-1, models__n_estimators=200; total time=   2.0s\n",
      "[CV] END models=LGBMClassifier(random_state=42), models__max_depth=-1, models__n_estimators=200; total time=   2.0s\n",
      "Лучшие параметры: {'models__n_estimators': 100, 'models__max_depth': None, 'models': RandomForestClassifier(random_state=42)}\n",
      "Лучший score: 0.97\n",
      "Время обучения: 4.77 сек\n",
      "Время предсказания: 0.02 сек\n"
     ]
    }
   ],
   "source": [
    "# Соберем словарь из перебираемых гиперпараметров\n",
    "\n",
    "params = [\n",
    "    # словарь для модели RandomForestClassifier()\n",
    "    {\n",
    "        'models': [RandomForestClassifier(random_state=RANDOM_STATE)],\n",
    "        'models__n_estimators': [50, 100],\n",
    "        'models__max_depth': [None, 10]\n",
    "\n",
    "    },\n",
    "    \n",
    "    # словарь для модели LGBM()\n",
    "    {\n",
    "        'models': [lgb.LGBMClassifier(random_state=RANDOM_STATE)],\n",
    "        'models__n_estimators': [100, 200, 300],\n",
    "        'models__max_depth': [-1, 5]\n",
    "    },\n",
    "    \n",
    "     # словарь для модели LogisticRegression()\n",
    "    {\n",
    "        'models': [LogisticRegression(solver='liblinear', class_weight='balanced', random_state=RANDOM_STATE)],\n",
    "        'models__C': [1, 10, 100],\n",
    "        'models__penalty': ['l1', 'l2'],\n",
    "        'models__solver': ['liblinear']\n",
    "    }\n",
    "]\n",
    "\n",
    "random_bert = RandomizedSearchCV(\n",
    "    pipe_bert, \n",
    "    params, \n",
    "    cv=3,\n",
    "    scoring='f1',\n",
    "    verbose=2,\n",
    "    random_state=RANDOM_STATE,\n",
    "    error_score='raise',\n",
    "    n_jobs=1,\n",
    "    n_iter=3\n",
    ")\n",
    "\n",
    "random_bert.fit(X_train_bert, y_train_bert)\n",
    "\n",
    "params_bert, best_score_bert, fit_time_bert, predict_time_bert = results(random_bert)\n",
    "\n",
    "print(f\"Лучшие параметры: {params_bert}\")\n",
    "print(f\"Лучший score: {best_score_bert:.2f}\")\n",
    "\n",
    "# затраченное время\n",
    "print(f\"Время обучения: {fit_time_bert:.2f} сек\")\n",
    "print(f\"Время предсказания: {predict_time_bert:.2f} сек\")"
   ]
  },
  {
   "cell_type": "markdown",
   "metadata": {},
   "source": [
    "Метрика после обработка текста с библиотекой unitary/toxic-bert впечатляет.\n",
    "Метрика F1 равна 0.97, что удовлетворяет заданию (>0.75)"
   ]
  },
  {
   "cell_type": "markdown",
   "metadata": {},
   "source": [
    "<h3> BERT базовая<a class=\"tocSkip\"> </h3>"
   ]
  },
  {
   "cell_type": "markdown",
   "metadata": {},
   "source": [
    "BERT - попробуем базовую библиотеку"
   ]
  },
  {
   "cell_type": "code",
   "execution_count": 31,
   "metadata": {},
   "outputs": [],
   "source": [
    "# Загружаем предобученный BERT\n",
    "\n",
    "model_base = \"bert-base-uncased\"\n",
    "tokenizer_base = BertTokenizer.from_pretrained(model_base)\n",
    "model_base = BertModel.from_pretrained(model_base)"
   ]
  },
  {
   "cell_type": "code",
   "execution_count": 32,
   "metadata": {},
   "outputs": [
    {
     "data": {
      "text/plain": [
       "BertModel(\n",
       "  (embeddings): BertEmbeddings(\n",
       "    (word_embeddings): Embedding(30522, 768, padding_idx=0)\n",
       "    (position_embeddings): Embedding(512, 768)\n",
       "    (token_type_embeddings): Embedding(2, 768)\n",
       "    (LayerNorm): LayerNorm((768,), eps=1e-12, elementwise_affine=True)\n",
       "    (dropout): Dropout(p=0.1, inplace=False)\n",
       "  )\n",
       "  (encoder): BertEncoder(\n",
       "    (layer): ModuleList(\n",
       "      (0-11): 12 x BertLayer(\n",
       "        (attention): BertAttention(\n",
       "          (self): BertSdpaSelfAttention(\n",
       "            (query): Linear(in_features=768, out_features=768, bias=True)\n",
       "            (key): Linear(in_features=768, out_features=768, bias=True)\n",
       "            (value): Linear(in_features=768, out_features=768, bias=True)\n",
       "            (dropout): Dropout(p=0.1, inplace=False)\n",
       "          )\n",
       "          (output): BertSelfOutput(\n",
       "            (dense): Linear(in_features=768, out_features=768, bias=True)\n",
       "            (LayerNorm): LayerNorm((768,), eps=1e-12, elementwise_affine=True)\n",
       "            (dropout): Dropout(p=0.1, inplace=False)\n",
       "          )\n",
       "        )\n",
       "        (intermediate): BertIntermediate(\n",
       "          (dense): Linear(in_features=768, out_features=3072, bias=True)\n",
       "          (intermediate_act_fn): GELUActivation()\n",
       "        )\n",
       "        (output): BertOutput(\n",
       "          (dense): Linear(in_features=3072, out_features=768, bias=True)\n",
       "          (LayerNorm): LayerNorm((768,), eps=1e-12, elementwise_affine=True)\n",
       "          (dropout): Dropout(p=0.1, inplace=False)\n",
       "        )\n",
       "      )\n",
       "    )\n",
       "  )\n",
       "  (pooler): BertPooler(\n",
       "    (dense): Linear(in_features=768, out_features=768, bias=True)\n",
       "    (activation): Tanh()\n",
       "  )\n",
       ")"
      ]
     },
     "execution_count": 32,
     "metadata": {},
     "output_type": "execute_result"
    }
   ],
   "source": [
    "# Переводим модель в режим предсказания (выключаем градиенты)\n",
    "\n",
    "model_base.eval()"
   ]
  },
  {
   "cell_type": "code",
   "execution_count": 33,
   "metadata": {},
   "outputs": [],
   "source": [
    "# функция для создания эмбеддингов\n",
    "\n",
    "def get_bert_base_embedding(text):\n",
    "    # Токенизация текста (обрезаем до 128 токенов)\n",
    "    tokens = tokenizer_base(text, padding=\"max_length\", truncation=True, return_tensors=\"pt\", max_length=128)\n",
    "\n",
    "    # Передаём текст в BERT и отключаем градиенты (ускоряет работу)\n",
    "    with torch.no_grad():\n",
    "        output = model_base(**tokens)\n",
    "\n",
    "    # Используем эмбеддинг [CLS] токена (размерность 768)\n",
    "    return output.last_hidden_state[:, 0, :].numpy()"
   ]
  },
  {
   "cell_type": "markdown",
   "metadata": {},
   "source": [
    "Ввиду того, что датасет у нас достаточно массивный, а обработка bert ресурсоемка, выберем из датасета только 10000 случайных текстов с длиной сообщения не более 300"
   ]
  },
  {
   "cell_type": "code",
   "execution_count": 34,
   "metadata": {},
   "outputs": [
    {
     "name": "stdout",
     "output_type": "stream",
     "text": [
      "Размер X: (10000, 768)\n",
      "Размер y: (10000,)\n"
     ]
    }
   ],
   "source": [
    "# Преобразуем тексты в эмбеддинги\n",
    "\n",
    "X_base = np.array([get_bert_base_embedding(text) for text in df_bert['text']])\n",
    "y_base = df_bert['toxic'].values  # Метки\n",
    "\n",
    "# Убираем лишнее измерение\n",
    "X_base = X_base.squeeze()\n",
    "\n",
    "print(\"Размер X:\", X_base.shape)  \n",
    "print(\"Размер y:\", y_base.shape)  "
   ]
  },
  {
   "cell_type": "code",
   "execution_count": 35,
   "metadata": {},
   "outputs": [],
   "source": [
    "# Разделяем данные на train/test\n",
    "\n",
    "X_train_base, X_test_base, y_train_base, y_test_base = train_test_split(X_base, y_base, test_size=0.2, stratify=y, random_state=RANDOM_STATE)"
   ]
  },
  {
   "cell_type": "code",
   "execution_count": 36,
   "metadata": {},
   "outputs": [],
   "source": [
    "pipe_base = Pipeline(\n",
    "    [\n",
    "        ('models', LogisticRegression())\n",
    "    ]\n",
    ")"
   ]
  },
  {
   "cell_type": "code",
   "execution_count": 37,
   "metadata": {
    "scrolled": false
   },
   "outputs": [
    {
     "name": "stdout",
     "output_type": "stream",
     "text": [
      "Fitting 3 folds for each of 3 candidates, totalling 9 fits\n",
      "[CV] END models=RandomForestClassifier(random_state=42), models__max_depth=None, models__n_estimators=50; total time=   4.0s\n",
      "[CV] END models=RandomForestClassifier(random_state=42), models__max_depth=None, models__n_estimators=50; total time=   3.9s\n",
      "[CV] END models=RandomForestClassifier(random_state=42), models__max_depth=None, models__n_estimators=50; total time=   4.2s\n",
      "[CV] END models=RandomForestClassifier(random_state=42), models__max_depth=None, models__n_estimators=100; total time=   8.0s\n",
      "[CV] END models=RandomForestClassifier(random_state=42), models__max_depth=None, models__n_estimators=100; total time=   7.9s\n",
      "[CV] END models=RandomForestClassifier(random_state=42), models__max_depth=None, models__n_estimators=100; total time=   8.0s\n",
      "[CV] END models=LGBMClassifier(random_state=42), models__max_depth=-1, models__n_estimators=200; total time=   3.4s\n",
      "[CV] END models=LGBMClassifier(random_state=42), models__max_depth=-1, models__n_estimators=200; total time=   3.4s\n",
      "[CV] END models=LGBMClassifier(random_state=42), models__max_depth=-1, models__n_estimators=200; total time=   3.4s\n",
      "Лучшие параметры: {'models__n_estimators': 200, 'models__max_depth': -1, 'models': LGBMClassifier(n_estimators=200, random_state=42)}\n",
      "Лучший score: 0.66\n",
      "Время обучения: 3.42 сек\n",
      "Время предсказания: 0.01 сек\n"
     ]
    }
   ],
   "source": [
    "# Соберем словарь из перебираемых гиперпараметров\n",
    "\n",
    "params = [\n",
    "    # словарь для модели RandomForestClassifier()\n",
    "    {\n",
    "        'models': [RandomForestClassifier(random_state=RANDOM_STATE)],\n",
    "        'models__n_estimators': [50, 100],\n",
    "        'models__max_depth': [None, 10]\n",
    "\n",
    "    },\n",
    "    \n",
    "    # словарь для модели LGBM()\n",
    "    {\n",
    "        'models': [lgb.LGBMClassifier(random_state=RANDOM_STATE)],\n",
    "        'models__n_estimators': [100, 200, 300],\n",
    "        'models__max_depth': [-1, 5]\n",
    "    },\n",
    "    \n",
    "     # словарь для модели LogisticRegression()\n",
    "    {\n",
    "        'models': [LogisticRegression(solver='liblinear', class_weight='balanced', random_state=RANDOM_STATE)],\n",
    "        'models__C': [1, 10, 100],\n",
    "        'models__penalty': ['l1', 'l2'],\n",
    "        'models__solver': ['liblinear']\n",
    "    }\n",
    "]\n",
    "\n",
    "random_base = RandomizedSearchCV(\n",
    "    pipe_base, \n",
    "    params, \n",
    "    cv=3,\n",
    "    scoring='f1',\n",
    "    verbose=2,\n",
    "    random_state=RANDOM_STATE,\n",
    "    error_score='raise',\n",
    "    n_jobs=1,\n",
    "    n_iter=3\n",
    ")\n",
    "\n",
    "random_base.fit(X_train_base, y_train_base)\n",
    "\n",
    "params_base, best_score_base, fit_time_base, predict_time_base = results(random_base)\n",
    "\n",
    "print(f\"Лучшие параметры: {params_base}\")\n",
    "print(f\"Лучший score: {best_score_base:.2f}\")\n",
    "\n",
    "# затраченное время\n",
    "print(f\"Время обучения: {fit_time_base:.2f} сек\")\n",
    "print(f\"Время предсказания: {predict_time_base:.2f} сек\")"
   ]
  },
  {
   "cell_type": "markdown",
   "metadata": {},
   "source": [
    "Метрика после обработка текста с базовой библиотекой BERT неудовлетворительна.\n",
    "Метрика F1 равна 0.66, что не удовлетворяет заданию (>0.75)"
   ]
  },
  {
   "cell_type": "markdown",
   "metadata": {},
   "source": [
    "<h3> Итоги<a class=\"tocSkip\"> </h3>"
   ]
  },
  {
   "cell_type": "code",
   "execution_count": 38,
   "metadata": {},
   "outputs": [
    {
     "data": {
      "text/html": [
       "<div>\n",
       "<style scoped>\n",
       "    .dataframe tbody tr th:only-of-type {\n",
       "        vertical-align: middle;\n",
       "    }\n",
       "\n",
       "    .dataframe tbody tr th {\n",
       "        vertical-align: top;\n",
       "    }\n",
       "\n",
       "    .dataframe thead th {\n",
       "        text-align: right;\n",
       "    }\n",
       "</style>\n",
       "<table border=\"1\" class=\"dataframe\">\n",
       "  <thead>\n",
       "    <tr style=\"text-align: right;\">\n",
       "      <th></th>\n",
       "      <th>fit_time</th>\n",
       "      <th>predict_time</th>\n",
       "      <th>f1</th>\n",
       "    </tr>\n",
       "    <tr>\n",
       "      <th>Model</th>\n",
       "      <th></th>\n",
       "      <th></th>\n",
       "      <th></th>\n",
       "    </tr>\n",
       "  </thead>\n",
       "  <tbody>\n",
       "    <tr>\n",
       "      <th>BERT+RandomForest</th>\n",
       "      <td>4.767160</td>\n",
       "      <td>0.015086</td>\n",
       "      <td>0.965248</td>\n",
       "    </tr>\n",
       "    <tr>\n",
       "      <th>LightGBM</th>\n",
       "      <td>10.754857</td>\n",
       "      <td>1.733990</td>\n",
       "      <td>0.774333</td>\n",
       "    </tr>\n",
       "    <tr>\n",
       "      <th>LogisticRegression</th>\n",
       "      <td>3.549488</td>\n",
       "      <td>1.259758</td>\n",
       "      <td>0.761848</td>\n",
       "    </tr>\n",
       "    <tr>\n",
       "      <th>BERT_base+LGBM</th>\n",
       "      <td>3.417952</td>\n",
       "      <td>0.007821</td>\n",
       "      <td>0.659410</td>\n",
       "    </tr>\n",
       "    <tr>\n",
       "      <th>MultinomialNB</th>\n",
       "      <td>2.145118</td>\n",
       "      <td>1.212143</td>\n",
       "      <td>0.627882</td>\n",
       "    </tr>\n",
       "    <tr>\n",
       "      <th>RandomForest</th>\n",
       "      <td>8.144620</td>\n",
       "      <td>1.949615</td>\n",
       "      <td>0.521674</td>\n",
       "    </tr>\n",
       "  </tbody>\n",
       "</table>\n",
       "</div>"
      ],
      "text/plain": [
       "                     fit_time  predict_time        f1\n",
       "Model                                                \n",
       "BERT+RandomForest    4.767160      0.015086  0.965248\n",
       "LightGBM            10.754857      1.733990  0.774333\n",
       "LogisticRegression   3.549488      1.259758  0.761848\n",
       "BERT_base+LGBM       3.417952      0.007821  0.659410\n",
       "MultinomialNB        2.145118      1.212143  0.627882\n",
       "RandomForest         8.144620      1.949615  0.521674"
      ]
     },
     "execution_count": 38,
     "metadata": {},
     "output_type": "execute_result"
    }
   ],
   "source": [
    "# сравнение метрик моделей\n",
    "\n",
    "data = {\n",
    "    'Model': ['LogisticRegression', 'MultinomialNB', 'RandomForest', 'LightGBM', 'BERT+RandomForest', 'BERT_base+LGBM'],\n",
    "    'fit_time': [fit_time_lr, fit_time_nb, fit_time_rf, fit_time_gbm, fit_time_bert, fit_time_base],\n",
    "    'predict_time': [predict_time_lr, predict_time_nb, predict_time_rf, predict_time_gbm, predict_time_bert, predict_time_base],\n",
    "    'f1': [best_score_lr, best_score_nb, best_score_rf, best_score_gbm, best_score_bert, best_score_base]\n",
    "}\n",
    "\n",
    "# Создаём DataFrame\n",
    "df_results = pd.DataFrame(data)\n",
    "df_results.set_index('Model', inplace=True)\n",
    "df_results.sort_values('f1', ascending=False)"
   ]
  },
  {
   "cell_type": "markdown",
   "metadata": {},
   "source": [
    "BERT с библиотекой unitary/toxic-bert показала лучший результат.\n",
    "Проверим метрику на тесте."
   ]
  },
  {
   "cell_type": "code",
   "execution_count": 39,
   "metadata": {},
   "outputs": [
    {
     "name": "stdout",
     "output_type": "stream",
     "text": [
      "Метрика f1 на тестовой выборке: 0.96\n"
     ]
    }
   ],
   "source": [
    "# Оцениваем на тестовых данных\n",
    "\n",
    "y_test_pred = random_bert.predict(X_test_bert)\n",
    "\n",
    "print(f'Метрика f1 на тестовой выборке: {f1_score(y_test_bert, y_test_pred):.2f}')"
   ]
  },
  {
   "cell_type": "markdown",
   "metadata": {},
   "source": [
    "## Выводы"
   ]
  },
  {
   "cell_type": "markdown",
   "metadata": {},
   "source": [
    "Поставлена задача построения модели для прогноза тональности текста.\n",
    "\n",
    "*Ход работы:*\n",
    "\n",
    "1. Загрузка данных и подготовка.\n",
    "\n",
    "В данных пропусков и дубликатов не обнаружено. \n",
    "Обнаружен дисбаланс классов. Класс 1 составляет всего 10% от всей выборки, поэтому этот класс модель может распознавать в итоге хуже.\n",
    "Решено использовать стратификацию при разделении на тренировочные и валидационные выборки.\n",
    "\n",
    "Подготовка данных осуществлена двумя методами:\n",
    "- с лемматизацией с помощью библиотеки SpaCy\n",
    "- с моделью BERT, использующую создание эмбендингов\n",
    "\n",
    "2. Обучение моделей с лемматизированными признаками.\n",
    "\n",
    "Для обучения моделей текст был очищен от лишних символов и лемматизирован, т.е. все слова приведены к их начальной форме.\n",
    "\n",
    "Данные были разделены на выборки тренировочную и тестовую (20%)\n",
    "Создан пайплайн с предварительной трансформацией признаков в векторы с помощью величин TF-IDF.\n",
    "\n",
    "Обучено 4 модели и получены метрики `f1` с лучшими гиперпараметрами на кросс-валидации: \n",
    "\n",
    "- Логистическая регрессия - 0.77\n",
    "- Наивный Байес - 0.63\n",
    "- Случайный лес  - 0.53\n",
    "- модель градиентного бустинга LightGBM - 0.77\n",
    "\n",
    "3. Обучение моделей с BERT.\n",
    "\n",
    "Для трансформации текста в эмбендинги были опробованы две библиотеки BERT `unitary/toxic-bert` и `bert-base-uncased`, мы только предсказываем на уже предобученных моделях. \n",
    "\n",
    "Ввиду того, что датасет у нас достаточно массивный, а обработка bert ресурсоемка, решено взять семпл на 10000 текстов с длиной сообщения не более 300.\n",
    "\n",
    "Готовые эмбендинги разделены на выборки тренировочную (80%) и тестовую (20%).\n",
    "С помощью `RandomizedSearchCV` осуществлен подбор лучшей модели с лучшими параметрами среди:\n",
    "- Логистическая регрессия\n",
    "- Случайный лес\n",
    "- модель градиентного бустинга LightGBM\n",
    "\n",
    "Результат лучшей метрики с библиотекой `unitary/toxic-bert` оказался отличным 0.97, когда как базовая библиотека дала метрику `f1` 0.66.\n",
    "\n",
    "4. Проверка данных на тестовой выборке.\n",
    "\n",
    "Лучшей метрикой на кросс-валидации обладает модель BERT с использованием библиотеки `unitary/toxic-bert`. \n",
    "\n",
    "При тестировании этой модели на тестовых данных получена метрика `f1` равная 0.96, удовлетворяющая порогу задания >0.75.\n"
   ]
  }
 ],
 "metadata": {
  "ExecuteTimeLog": [
   {
    "duration": 2602,
    "start_time": "2025-03-12T08:19:10.176Z"
   },
   {
    "duration": 2694,
    "start_time": "2025-03-12T11:22:36.137Z"
   },
   {
    "duration": 2771,
    "start_time": "2025-03-12T11:26:08.552Z"
   },
   {
    "duration": 14,
    "start_time": "2025-03-12T11:27:12.038Z"
   },
   {
    "duration": 35,
    "start_time": "2025-03-12T11:27:40.972Z"
   },
   {
    "duration": 27,
    "start_time": "2025-03-12T11:28:32.833Z"
   },
   {
    "duration": 235,
    "start_time": "2025-03-12T11:29:24.711Z"
   },
   {
    "duration": 860,
    "start_time": "2025-03-12T11:36:05.288Z"
   },
   {
    "duration": 170,
    "start_time": "2025-03-12T11:37:17.260Z"
   },
   {
    "duration": 20,
    "start_time": "2025-03-12T11:37:37.137Z"
   },
   {
    "duration": 4,
    "start_time": "2025-03-12T11:37:51.446Z"
   },
   {
    "duration": 142,
    "start_time": "2025-03-12T11:37:56.963Z"
   },
   {
    "duration": 120,
    "start_time": "2025-03-12T11:38:39.523Z"
   },
   {
    "duration": 116,
    "start_time": "2025-03-12T11:38:47.881Z"
   },
   {
    "duration": 109,
    "start_time": "2025-03-12T11:38:51.082Z"
   },
   {
    "duration": 244,
    "start_time": "2025-03-12T12:13:48.109Z"
   },
   {
    "duration": 119,
    "start_time": "2025-03-12T12:15:34.017Z"
   },
   {
    "duration": 90,
    "start_time": "2025-03-12T12:16:00.125Z"
   },
   {
    "duration": 115,
    "start_time": "2025-03-12T12:18:30.638Z"
   },
   {
    "duration": 103,
    "start_time": "2025-03-12T12:19:23.711Z"
   },
   {
    "duration": 104,
    "start_time": "2025-03-12T12:24:51.764Z"
   },
   {
    "duration": 123,
    "start_time": "2025-03-12T12:24:57.685Z"
   },
   {
    "duration": 121,
    "start_time": "2025-03-12T12:25:24.794Z"
   },
   {
    "duration": 129,
    "start_time": "2025-03-12T12:25:57.967Z"
   },
   {
    "duration": 139,
    "start_time": "2025-03-12T12:26:08.110Z"
   },
   {
    "duration": 142,
    "start_time": "2025-03-12T12:26:43.040Z"
   },
   {
    "duration": 127,
    "start_time": "2025-03-12T12:27:29.064Z"
   },
   {
    "duration": 150,
    "start_time": "2025-03-12T12:27:48.309Z"
   },
   {
    "duration": 244,
    "start_time": "2025-03-12T12:28:33.423Z"
   },
   {
    "duration": 236,
    "start_time": "2025-03-12T12:29:21.243Z"
   },
   {
    "duration": 126,
    "start_time": "2025-03-12T12:29:29.838Z"
   },
   {
    "duration": 130,
    "start_time": "2025-03-12T12:29:36.604Z"
   },
   {
    "duration": 368,
    "start_time": "2025-03-12T12:29:49.555Z"
   },
   {
    "duration": 224,
    "start_time": "2025-03-12T12:31:07.720Z"
   },
   {
    "duration": 212,
    "start_time": "2025-03-12T12:31:13.214Z"
   },
   {
    "duration": 116,
    "start_time": "2025-03-12T12:31:58.523Z"
   },
   {
    "duration": 114,
    "start_time": "2025-03-12T12:32:52.523Z"
   },
   {
    "duration": 115,
    "start_time": "2025-03-12T12:33:43.605Z"
   },
   {
    "duration": 1223,
    "start_time": "2025-03-12T12:34:31.423Z"
   },
   {
    "duration": 117,
    "start_time": "2025-03-12T12:35:47.737Z"
   },
   {
    "duration": 1349,
    "start_time": "2025-03-12T12:36:36.395Z"
   },
   {
    "duration": 2848,
    "start_time": "2025-03-12T12:36:47.721Z"
   },
   {
    "duration": 2170,
    "start_time": "2025-03-12T12:36:50.570Z"
   },
   {
    "duration": 11,
    "start_time": "2025-03-12T12:36:52.741Z"
   },
   {
    "duration": 55,
    "start_time": "2025-03-12T12:36:52.761Z"
   },
   {
    "duration": 36,
    "start_time": "2025-03-12T12:36:52.818Z"
   },
   {
    "duration": 244,
    "start_time": "2025-03-12T12:36:52.855Z"
   },
   {
    "duration": 137,
    "start_time": "2025-03-12T12:36:53.101Z"
   },
   {
    "duration": 222,
    "start_time": "2025-03-12T12:36:53.240Z"
   },
   {
    "duration": 111,
    "start_time": "2025-03-12T12:37:28.289Z"
   },
   {
    "duration": 121,
    "start_time": "2025-03-12T12:37:38.987Z"
   },
   {
    "duration": 122,
    "start_time": "2025-03-12T12:48:22.484Z"
   },
   {
    "duration": 130,
    "start_time": "2025-03-12T12:48:32.349Z"
   },
   {
    "duration": 122,
    "start_time": "2025-03-12T12:48:41.561Z"
   },
   {
    "duration": 125,
    "start_time": "2025-03-12T12:48:54.580Z"
   },
   {
    "duration": 123,
    "start_time": "2025-03-12T12:49:11.769Z"
   },
   {
    "duration": 125,
    "start_time": "2025-03-12T12:49:28.898Z"
   },
   {
    "duration": 3,
    "start_time": "2025-03-12T13:15:41.358Z"
   },
   {
    "duration": 3,
    "start_time": "2025-03-12T13:16:10.168Z"
   },
   {
    "duration": 503,
    "start_time": "2025-03-12T13:16:41.211Z"
   },
   {
    "duration": 7,
    "start_time": "2025-03-12T13:16:59.907Z"
   },
   {
    "duration": 1537,
    "start_time": "2025-03-12T13:17:05.203Z"
   },
   {
    "duration": 1470,
    "start_time": "2025-03-12T13:17:36.005Z"
   },
   {
    "duration": 34,
    "start_time": "2025-03-12T13:18:47.847Z"
   },
   {
    "duration": 2295,
    "start_time": "2025-03-12T13:21:54.997Z"
   },
   {
    "duration": 708,
    "start_time": "2025-03-12T13:24:35.188Z"
   },
   {
    "duration": 476,
    "start_time": "2025-03-12T13:24:45.728Z"
   },
   {
    "duration": 461,
    "start_time": "2025-03-12T13:25:04.978Z"
   },
   {
    "duration": 42,
    "start_time": "2025-03-12T13:25:16.200Z"
   },
   {
    "duration": 18,
    "start_time": "2025-03-12T13:26:17.217Z"
   },
   {
    "duration": 12,
    "start_time": "2025-03-12T13:26:22.989Z"
   },
   {
    "duration": 25,
    "start_time": "2025-03-12T13:28:06.424Z"
   },
   {
    "duration": 24,
    "start_time": "2025-03-12T13:28:15.611Z"
   },
   {
    "duration": 22,
    "start_time": "2025-03-12T13:28:20.452Z"
   },
   {
    "duration": 13,
    "start_time": "2025-03-12T13:30:13.815Z"
   },
   {
    "duration": 474,
    "start_time": "2025-03-12T13:31:34.834Z"
   },
   {
    "duration": 12,
    "start_time": "2025-03-12T13:31:56.128Z"
   },
   {
    "duration": 15,
    "start_time": "2025-03-12T13:32:06.816Z"
   },
   {
    "duration": 12,
    "start_time": "2025-03-12T13:32:18.876Z"
   },
   {
    "duration": 12,
    "start_time": "2025-03-12T13:32:24.933Z"
   },
   {
    "duration": 15,
    "start_time": "2025-03-12T13:33:53.766Z"
   },
   {
    "duration": 503,
    "start_time": "2025-03-12T13:40:25.578Z"
   },
   {
    "duration": 13,
    "start_time": "2025-03-12T13:40:26.083Z"
   },
   {
    "duration": 4864,
    "start_time": "2025-03-12T13:40:40.801Z"
   },
   {
    "duration": 3611,
    "start_time": "2025-03-12T13:40:45.667Z"
   },
   {
    "duration": 11,
    "start_time": "2025-03-12T13:40:49.280Z"
   },
   {
    "duration": 36,
    "start_time": "2025-03-12T13:40:49.293Z"
   },
   {
    "duration": 44,
    "start_time": "2025-03-12T13:40:49.331Z"
   },
   {
    "duration": 242,
    "start_time": "2025-03-12T13:40:49.376Z"
   },
   {
    "duration": 149,
    "start_time": "2025-03-12T13:40:49.619Z"
   },
   {
    "duration": 500,
    "start_time": "2025-03-12T13:40:49.770Z"
   },
   {
    "duration": 337,
    "start_time": "2025-03-12T13:40:50.272Z"
   },
   {
    "duration": 14,
    "start_time": "2025-03-12T13:41:29.477Z"
   },
   {
    "duration": 21,
    "start_time": "2025-03-12T13:43:53.569Z"
   },
   {
    "duration": 231,
    "start_time": "2025-03-12T14:05:22.785Z"
   },
   {
    "duration": 4779,
    "start_time": "2025-03-12T14:08:32.908Z"
   },
   {
    "duration": 2491,
    "start_time": "2025-03-12T14:08:37.689Z"
   },
   {
    "duration": 14,
    "start_time": "2025-03-12T14:08:40.183Z"
   },
   {
    "duration": 54,
    "start_time": "2025-03-12T14:08:40.199Z"
   },
   {
    "duration": 31,
    "start_time": "2025-03-12T14:08:40.256Z"
   },
   {
    "duration": 248,
    "start_time": "2025-03-12T14:08:40.289Z"
   },
   {
    "duration": 148,
    "start_time": "2025-03-12T14:08:40.539Z"
   },
   {
    "duration": 504,
    "start_time": "2025-03-12T14:08:40.689Z"
   },
   {
    "duration": 344,
    "start_time": "2025-03-12T14:08:41.195Z"
   },
   {
    "duration": 0,
    "start_time": "2025-03-12T14:08:41.541Z"
   },
   {
    "duration": 58,
    "start_time": "2025-03-12T14:08:52.655Z"
   },
   {
    "duration": 78,
    "start_time": "2025-03-12T14:11:15.886Z"
   },
   {
    "duration": 30,
    "start_time": "2025-03-12T14:11:24.114Z"
   },
   {
    "duration": 8688,
    "start_time": "2025-03-12T14:16:10.715Z"
   },
   {
    "duration": 8519,
    "start_time": "2025-03-12T14:16:36.732Z"
   },
   {
    "duration": 5064,
    "start_time": "2025-03-12T14:16:54.265Z"
   },
   {
    "duration": 2356,
    "start_time": "2025-03-12T14:16:59.331Z"
   },
   {
    "duration": 12,
    "start_time": "2025-03-12T14:17:01.689Z"
   },
   {
    "duration": 56,
    "start_time": "2025-03-12T14:17:01.703Z"
   },
   {
    "duration": 41,
    "start_time": "2025-03-12T14:17:01.761Z"
   },
   {
    "duration": 263,
    "start_time": "2025-03-12T14:17:01.804Z"
   },
   {
    "duration": 153,
    "start_time": "2025-03-12T14:17:02.069Z"
   },
   {
    "duration": 506,
    "start_time": "2025-03-12T14:17:02.224Z"
   },
   {
    "duration": 8642,
    "start_time": "2025-03-12T14:17:02.732Z"
   },
   {
    "duration": 51,
    "start_time": "2025-03-12T14:17:11.375Z"
   },
   {
    "duration": 372,
    "start_time": "2025-03-12T14:17:11.428Z"
   },
   {
    "duration": 5024,
    "start_time": "2025-03-12T14:17:38.346Z"
   },
   {
    "duration": 2360,
    "start_time": "2025-03-12T14:17:43.372Z"
   },
   {
    "duration": 27,
    "start_time": "2025-03-12T14:17:45.737Z"
   },
   {
    "duration": 44,
    "start_time": "2025-03-12T14:17:45.766Z"
   },
   {
    "duration": 39,
    "start_time": "2025-03-12T14:17:45.812Z"
   },
   {
    "duration": 263,
    "start_time": "2025-03-12T14:17:45.853Z"
   },
   {
    "duration": 152,
    "start_time": "2025-03-12T14:17:46.118Z"
   },
   {
    "duration": 501,
    "start_time": "2025-03-12T14:17:46.272Z"
   },
   {
    "duration": 8656,
    "start_time": "2025-03-12T14:17:46.775Z"
   },
   {
    "duration": 67,
    "start_time": "2025-03-12T14:17:55.433Z"
   },
   {
    "duration": 386,
    "start_time": "2025-03-12T14:17:55.502Z"
   },
   {
    "duration": 55,
    "start_time": "2025-03-12T14:19:23.453Z"
   },
   {
    "duration": 53,
    "start_time": "2025-03-12T14:19:29.852Z"
   },
   {
    "duration": 5,
    "start_time": "2025-03-12T14:19:47.502Z"
   },
   {
    "duration": 5022,
    "start_time": "2025-03-12T14:42:12.305Z"
   },
   {
    "duration": 2210,
    "start_time": "2025-03-12T14:42:17.329Z"
   },
   {
    "duration": 22,
    "start_time": "2025-03-12T14:42:19.541Z"
   },
   {
    "duration": 37,
    "start_time": "2025-03-12T14:42:19.564Z"
   },
   {
    "duration": 31,
    "start_time": "2025-03-12T14:42:19.604Z"
   },
   {
    "duration": 253,
    "start_time": "2025-03-12T14:42:19.637Z"
   },
   {
    "duration": 150,
    "start_time": "2025-03-12T14:42:19.892Z"
   },
   {
    "duration": 520,
    "start_time": "2025-03-12T14:42:20.044Z"
   },
   {
    "duration": 8741,
    "start_time": "2025-03-12T14:42:20.566Z"
   },
   {
    "duration": 69,
    "start_time": "2025-03-12T14:42:29.309Z"
   },
   {
    "duration": 359,
    "start_time": "2025-03-12T14:42:29.380Z"
   },
   {
    "duration": 4912,
    "start_time": "2025-03-12T14:44:16.035Z"
   },
   {
    "duration": 2232,
    "start_time": "2025-03-12T14:44:20.949Z"
   },
   {
    "duration": 11,
    "start_time": "2025-03-12T14:44:23.183Z"
   },
   {
    "duration": 37,
    "start_time": "2025-03-12T14:44:23.196Z"
   },
   {
    "duration": 41,
    "start_time": "2025-03-12T14:44:23.235Z"
   },
   {
    "duration": 267,
    "start_time": "2025-03-12T14:44:23.278Z"
   },
   {
    "duration": 153,
    "start_time": "2025-03-12T14:44:23.547Z"
   },
   {
    "duration": 520,
    "start_time": "2025-03-12T14:44:23.702Z"
   },
   {
    "duration": 8552,
    "start_time": "2025-03-12T14:44:24.224Z"
   }
  ],
  "kernelspec": {
   "display_name": "Python 3 (ipykernel)",
   "language": "python",
   "name": "python3"
  },
  "language_info": {
   "codemirror_mode": {
    "name": "ipython",
    "version": 3
   },
   "file_extension": ".py",
   "mimetype": "text/x-python",
   "name": "python",
   "nbconvert_exporter": "python",
   "pygments_lexer": "ipython3",
   "version": "3.11.9"
  },
  "toc": {
   "base_numbering": 1,
   "nav_menu": {},
   "number_sections": true,
   "sideBar": true,
   "skip_h1_title": true,
   "title_cell": "Содержание",
   "title_sidebar": "Contents",
   "toc_cell": true,
   "toc_position": {
    "height": "calc(100% - 180px)",
    "left": "10px",
    "top": "150px",
    "width": "260.390625px"
   },
   "toc_section_display": true,
   "toc_window_display": true
  }
 },
 "nbformat": 4,
 "nbformat_minor": 2
}
